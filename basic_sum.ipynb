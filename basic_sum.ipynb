{
 "cells": [
  {
   "cell_type": "code",
   "execution_count": 63,
   "metadata": {},
   "outputs": [],
   "source": [
    "import numpy as np\n",
    "from keras.models import Sequential\n",
    "from keras.layers import Dense"
   ]
  },
  {
   "cell_type": "markdown",
   "metadata": {},
   "source": [
    "## Preparing the Data"
   ]
  },
  {
   "cell_type": "code",
   "execution_count": 64,
   "metadata": {},
   "outputs": [],
   "source": [
    "ammount_samples = 1000\n",
    "x_train = np.random.rand(ammount_samples, 2)\n",
    "y_train = x_train[:, 0] + x_train[:, 1]"
   ]
  },
  {
   "cell_type": "markdown",
   "metadata": {},
   "source": [
    "## Define the Neural Network"
   ]
  },
  {
   "cell_type": "code",
   "execution_count": 65,
   "metadata": {},
   "outputs": [],
   "source": [
    "model = Sequential(\n",
    "    [\n",
    "       Dense(8, input_shape=(2,), activation='relu'),\n",
    "       Dense(1)\n",
    "    ]\n",
    ")"
   ]
  },
  {
   "cell_type": "markdown",
   "metadata": {},
   "source": [
    "## Compiling the Model"
   ]
  },
  {
   "cell_type": "code",
   "execution_count": 66,
   "metadata": {},
   "outputs": [],
   "source": [
    "model.compile(loss='mse', optimizer='adam')"
   ]
  },
  {
   "cell_type": "markdown",
   "metadata": {},
   "source": [
    "## Train the Model"
   ]
  },
  {
   "cell_type": "code",
   "execution_count": 67,
   "metadata": {},
   "outputs": [],
   "source": [
    "batch_size = 32\n",
    "epochs = 100"
   ]
  },
  {
   "cell_type": "code",
   "execution_count": 68,
   "metadata": {},
   "outputs": [
    {
     "name": "stdout",
     "output_type": "stream",
     "text": [
      "Epoch 1/100\n",
      "32/32 [==============================] - 1s 5ms/step - loss: 0.8608\n",
      "Epoch 2/100\n",
      "32/32 [==============================] - 0s 8ms/step - loss: 0.6793\n",
      "Epoch 3/100\n",
      "32/32 [==============================] - 0s 3ms/step - loss: 0.5263\n",
      "Epoch 4/100\n",
      "32/32 [==============================] - 0s 3ms/step - loss: 0.3846\n",
      "Epoch 5/100\n",
      "32/32 [==============================] - 0s 3ms/step - loss: 0.2624\n",
      "Epoch 6/100\n",
      "32/32 [==============================] - 0s 3ms/step - loss: 0.1685\n",
      "Epoch 7/100\n",
      "32/32 [==============================] - 0s 3ms/step - loss: 0.1070\n",
      "Epoch 8/100\n",
      "32/32 [==============================] - 0s 3ms/step - loss: 0.0706\n",
      "Epoch 9/100\n",
      "32/32 [==============================] - 0s 4ms/step - loss: 0.0525\n",
      "Epoch 10/100\n",
      "32/32 [==============================] - 0s 3ms/step - loss: 0.0447\n",
      "Epoch 11/100\n",
      "32/32 [==============================] - 0s 4ms/step - loss: 0.0411\n",
      "Epoch 12/100\n",
      "32/32 [==============================] - 0s 3ms/step - loss: 0.0392\n",
      "Epoch 13/100\n",
      "32/32 [==============================] - 0s 3ms/step - loss: 0.0376\n",
      "Epoch 14/100\n",
      "32/32 [==============================] - 0s 3ms/step - loss: 0.0362\n",
      "Epoch 15/100\n",
      "32/32 [==============================] - 0s 3ms/step - loss: 0.0348\n",
      "Epoch 16/100\n",
      "32/32 [==============================] - 0s 3ms/step - loss: 0.0333\n",
      "Epoch 17/100\n",
      "32/32 [==============================] - 0s 3ms/step - loss: 0.0319\n",
      "Epoch 18/100\n",
      "32/32 [==============================] - 0s 3ms/step - loss: 0.0305\n",
      "Epoch 19/100\n",
      "32/32 [==============================] - 0s 3ms/step - loss: 0.0290\n",
      "Epoch 20/100\n",
      "32/32 [==============================] - 0s 8ms/step - loss: 0.0276\n",
      "Epoch 21/100\n",
      "32/32 [==============================] - 0s 6ms/step - loss: 0.0261\n",
      "Epoch 22/100\n",
      "32/32 [==============================] - 0s 6ms/step - loss: 0.0247\n",
      "Epoch 23/100\n",
      "32/32 [==============================] - 0s 5ms/step - loss: 0.0234\n",
      "Epoch 24/100\n",
      "32/32 [==============================] - 0s 3ms/step - loss: 0.0220\n",
      "Epoch 25/100\n",
      "32/32 [==============================] - 0s 4ms/step - loss: 0.0207\n",
      "Epoch 26/100\n",
      "32/32 [==============================] - 0s 5ms/step - loss: 0.0194\n",
      "Epoch 27/100\n",
      "32/32 [==============================] - 0s 3ms/step - loss: 0.0181\n",
      "Epoch 28/100\n",
      "32/32 [==============================] - 0s 4ms/step - loss: 0.0169\n",
      "Epoch 29/100\n",
      "32/32 [==============================] - 0s 3ms/step - loss: 0.0158\n",
      "Epoch 30/100\n",
      "32/32 [==============================] - 0s 12ms/step - loss: 0.0147\n",
      "Epoch 31/100\n",
      "32/32 [==============================] - 0s 6ms/step - loss: 0.0136\n",
      "Epoch 32/100\n",
      "32/32 [==============================] - 0s 5ms/step - loss: 0.0126\n",
      "Epoch 33/100\n",
      "32/32 [==============================] - 0s 4ms/step - loss: 0.0116\n",
      "Epoch 34/100\n",
      "32/32 [==============================] - 0s 4ms/step - loss: 0.0107\n",
      "Epoch 35/100\n",
      "32/32 [==============================] - 0s 5ms/step - loss: 0.0098\n",
      "Epoch 36/100\n",
      "32/32 [==============================] - 0s 5ms/step - loss: 0.0090\n",
      "Epoch 37/100\n",
      "32/32 [==============================] - 0s 5ms/step - loss: 0.0082\n",
      "Epoch 38/100\n",
      "32/32 [==============================] - 0s 9ms/step - loss: 0.0075\n",
      "Epoch 39/100\n",
      "32/32 [==============================] - 0s 5ms/step - loss: 0.0068\n",
      "Epoch 40/100\n",
      "32/32 [==============================] - 0s 6ms/step - loss: 0.0062\n",
      "Epoch 41/100\n",
      "32/32 [==============================] - 0s 7ms/step - loss: 0.0057\n",
      "Epoch 42/100\n",
      "32/32 [==============================] - 0s 4ms/step - loss: 0.0051\n",
      "Epoch 43/100\n",
      "32/32 [==============================] - 0s 4ms/step - loss: 0.0046\n",
      "Epoch 44/100\n",
      "32/32 [==============================] - 0s 4ms/step - loss: 0.0042\n",
      "Epoch 45/100\n",
      "32/32 [==============================] - 0s 4ms/step - loss: 0.0038\n",
      "Epoch 46/100\n",
      "32/32 [==============================] - 0s 4ms/step - loss: 0.0034\n",
      "Epoch 47/100\n",
      "32/32 [==============================] - 0s 3ms/step - loss: 0.0031\n",
      "Epoch 48/100\n",
      "32/32 [==============================] - 0s 4ms/step - loss: 0.0028\n",
      "Epoch 49/100\n",
      "32/32 [==============================] - 0s 5ms/step - loss: 0.0025\n",
      "Epoch 50/100\n",
      "32/32 [==============================] - 0s 4ms/step - loss: 0.0023\n",
      "Epoch 51/100\n",
      "32/32 [==============================] - 0s 6ms/step - loss: 0.0021\n",
      "Epoch 52/100\n",
      "32/32 [==============================] - 0s 5ms/step - loss: 0.0019\n",
      "Epoch 53/100\n",
      "32/32 [==============================] - 0s 4ms/step - loss: 0.0017\n",
      "Epoch 54/100\n",
      "32/32 [==============================] - 0s 3ms/step - loss: 0.0016\n",
      "Epoch 55/100\n",
      "32/32 [==============================] - 0s 6ms/step - loss: 0.0014\n",
      "Epoch 56/100\n",
      "32/32 [==============================] - 0s 4ms/step - loss: 0.0013\n",
      "Epoch 57/100\n",
      "32/32 [==============================] - 0s 4ms/step - loss: 0.0012\n",
      "Epoch 58/100\n",
      "32/32 [==============================] - 0s 4ms/step - loss: 0.0011\n",
      "Epoch 59/100\n",
      "32/32 [==============================] - 0s 4ms/step - loss: 0.0010\n",
      "Epoch 60/100\n",
      "32/32 [==============================] - 0s 4ms/step - loss: 9.5528e-04\n",
      "Epoch 61/100\n",
      "32/32 [==============================] - 0s 5ms/step - loss: 8.9011e-04\n",
      "Epoch 62/100\n",
      "32/32 [==============================] - 0s 7ms/step - loss: 8.3234e-04\n",
      "Epoch 63/100\n",
      "32/32 [==============================] - 0s 4ms/step - loss: 7.7875e-04\n",
      "Epoch 64/100\n",
      "32/32 [==============================] - 0s 5ms/step - loss: 7.3139e-04\n",
      "Epoch 65/100\n",
      "32/32 [==============================] - 0s 7ms/step - loss: 6.8821e-04\n",
      "Epoch 66/100\n",
      "32/32 [==============================] - 0s 4ms/step - loss: 6.4757e-04\n",
      "Epoch 67/100\n",
      "32/32 [==============================] - 0s 4ms/step - loss: 6.1172e-04\n",
      "Epoch 68/100\n",
      "32/32 [==============================] - 0s 5ms/step - loss: 5.7874e-04\n",
      "Epoch 69/100\n",
      "32/32 [==============================] - 0s 4ms/step - loss: 5.4763e-04\n",
      "Epoch 70/100\n",
      "32/32 [==============================] - 0s 4ms/step - loss: 5.1883e-04\n",
      "Epoch 71/100\n",
      "32/32 [==============================] - 0s 6ms/step - loss: 4.9372e-04\n",
      "Epoch 72/100\n",
      "32/32 [==============================] - 0s 4ms/step - loss: 4.6788e-04\n",
      "Epoch 73/100\n",
      "32/32 [==============================] - 0s 4ms/step - loss: 4.4432e-04\n",
      "Epoch 74/100\n",
      "32/32 [==============================] - 0s 4ms/step - loss: 4.2183e-04\n",
      "Epoch 75/100\n",
      "32/32 [==============================] - 0s 5ms/step - loss: 4.0096e-04\n",
      "Epoch 76/100\n",
      "32/32 [==============================] - 0s 3ms/step - loss: 3.8098e-04\n",
      "Epoch 77/100\n",
      "32/32 [==============================] - 0s 3ms/step - loss: 3.6264e-04\n",
      "Epoch 78/100\n",
      "32/32 [==============================] - 0s 6ms/step - loss: 3.4507e-04\n",
      "Epoch 79/100\n",
      "32/32 [==============================] - 0s 4ms/step - loss: 3.2782e-04\n",
      "Epoch 80/100\n",
      "32/32 [==============================] - 0s 5ms/step - loss: 3.1168e-04\n",
      "Epoch 81/100\n",
      "32/32 [==============================] - 0s 3ms/step - loss: 2.9674e-04\n",
      "Epoch 82/100\n",
      "32/32 [==============================] - 0s 5ms/step - loss: 2.8199e-04\n",
      "Epoch 83/100\n",
      "32/32 [==============================] - 0s 4ms/step - loss: 2.6838e-04\n",
      "Epoch 84/100\n",
      "32/32 [==============================] - 0s 4ms/step - loss: 2.5573e-04\n",
      "Epoch 85/100\n",
      "32/32 [==============================] - 0s 4ms/step - loss: 2.4414e-04\n",
      "Epoch 86/100\n",
      "32/32 [==============================] - 0s 4ms/step - loss: 2.3185e-04\n",
      "Epoch 87/100\n",
      "32/32 [==============================] - 0s 4ms/step - loss: 2.2066e-04\n",
      "Epoch 88/100\n",
      "32/32 [==============================] - 0s 4ms/step - loss: 2.1047e-04\n",
      "Epoch 89/100\n",
      "32/32 [==============================] - 0s 5ms/step - loss: 2.0088e-04\n",
      "Epoch 90/100\n",
      "32/32 [==============================] - 0s 4ms/step - loss: 1.9049e-04\n",
      "Epoch 91/100\n",
      "32/32 [==============================] - 0s 7ms/step - loss: 1.8241e-04\n",
      "Epoch 92/100\n",
      "32/32 [==============================] - 0s 3ms/step - loss: 1.7305e-04\n",
      "Epoch 93/100\n",
      "32/32 [==============================] - 0s 4ms/step - loss: 1.6478e-04\n",
      "Epoch 94/100\n",
      "32/32 [==============================] - 0s 4ms/step - loss: 1.5675e-04\n",
      "Epoch 95/100\n",
      "32/32 [==============================] - 0s 4ms/step - loss: 1.4965e-04\n",
      "Epoch 96/100\n",
      "32/32 [==============================] - 0s 6ms/step - loss: 1.4254e-04\n",
      "Epoch 97/100\n",
      "32/32 [==============================] - 0s 4ms/step - loss: 1.3579e-04\n",
      "Epoch 98/100\n",
      "32/32 [==============================] - 0s 4ms/step - loss: 1.2938e-04\n",
      "Epoch 99/100\n",
      "32/32 [==============================] - 0s 3ms/step - loss: 1.2352e-04\n",
      "Epoch 100/100\n",
      "32/32 [==============================] - 0s 4ms/step - loss: 1.1761e-04\n"
     ]
    },
    {
     "data": {
      "text/plain": [
       "<keras.callbacks.History at 0x2246e813d30>"
      ]
     },
     "execution_count": 68,
     "metadata": {},
     "output_type": "execute_result"
    }
   ],
   "source": [
    "model.fit(x_train, y_train, batch_size=batch_size, epochs=epochs, verbose=1)"
   ]
  },
  {
   "cell_type": "markdown",
   "metadata": {},
   "source": [
    "## Test the model"
   ]
  },
  {
   "cell_type": "code",
   "execution_count": 69,
   "metadata": {},
   "outputs": [
    {
     "name": "stdout",
     "output_type": "stream",
     "text": [
      "1/1 [==============================] - 0s 134ms/step\n"
     ]
    }
   ],
   "source": [
    "test_input = np.array([ [1,2], [0.3, 0.4] ])\n",
    "predicted_sum = model.predict(test_input)"
   ]
  },
  {
   "cell_type": "code",
   "execution_count": 70,
   "metadata": {},
   "outputs": [
    {
     "name": "stdout",
     "output_type": "stream",
     "text": [
      "Predicted Sums: \n",
      " [[2.950939  ]\n",
      " [0.70726347]]\n"
     ]
    }
   ],
   "source": [
    "print(f\"Predicted Sums: \\n {predicted_sum}\")"
   ]
  },
  {
   "cell_type": "code",
   "execution_count": null,
   "metadata": {},
   "outputs": [],
   "source": []
  }
 ],
 "metadata": {
  "kernelspec": {
   "display_name": "base",
   "language": "python",
   "name": "python3"
  },
  "language_info": {
   "codemirror_mode": {
    "name": "ipython",
    "version": 3
   },
   "file_extension": ".py",
   "mimetype": "text/x-python",
   "name": "python",
   "nbconvert_exporter": "python",
   "pygments_lexer": "ipython3",
   "version": "3.10.9"
  },
  "orig_nbformat": 4
 },
 "nbformat": 4,
 "nbformat_minor": 2
}
